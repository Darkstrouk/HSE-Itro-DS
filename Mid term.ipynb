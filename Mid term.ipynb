{
 "cells": [
  {
   "cell_type": "markdown",
   "metadata": {},
   "source": [
    "Данные с различными показателями по странам с 1980 по 2009 тут. Показатели, которые есть в таблице\n",
    "\n",
    "'Country or Area' - страна\n",
    "\n",
    "'Year' - год\n",
    "\n",
    "'Life expectancy' - продолжительность жизни\n",
    "\n",
    "'GDP' - ВВП\n",
    "\n",
    "'Wage' - средняя заработная плата.\n",
    "\n",
    "Необходимо определить страну, в которой в 1998 году ВВП был ниже 1500."
   ]
  },
  {
   "cell_type": "code",
   "execution_count": 1,
   "metadata": {},
   "outputs": [],
   "source": [
    "import pandas as pd"
   ]
  },
  {
   "cell_type": "code",
   "execution_count": 2,
   "metadata": {},
   "outputs": [],
   "source": [
    "data = pd.read_csv('country_statistics.csv')"
   ]
  },
  {
   "cell_type": "code",
   "execution_count": 3,
   "metadata": {},
   "outputs": [
    {
     "data": {
      "text/html": [
       "<div>\n",
       "<style scoped>\n",
       "    .dataframe tbody tr th:only-of-type {\n",
       "        vertical-align: middle;\n",
       "    }\n",
       "\n",
       "    .dataframe tbody tr th {\n",
       "        vertical-align: top;\n",
       "    }\n",
       "\n",
       "    .dataframe thead th {\n",
       "        text-align: right;\n",
       "    }\n",
       "</style>\n",
       "<table border=\"1\" class=\"dataframe\">\n",
       "  <thead>\n",
       "    <tr style=\"text-align: right;\">\n",
       "      <th></th>\n",
       "      <th>Country or Area</th>\n",
       "      <th>Life expectancy</th>\n",
       "      <th>Year</th>\n",
       "      <th>Child overweight percent</th>\n",
       "      <th>Child underweight percent</th>\n",
       "      <th>GDP</th>\n",
       "      <th>Literacy</th>\n",
       "      <th>Wage</th>\n",
       "    </tr>\n",
       "  </thead>\n",
       "  <tbody>\n",
       "    <tr>\n",
       "      <th>0</th>\n",
       "      <td>Afghanistan</td>\n",
       "      <td>41.0</td>\n",
       "      <td>1985</td>\n",
       "      <td>NaN</td>\n",
       "      <td>NaN</td>\n",
       "      <td>3322.0</td>\n",
       "      <td>4.99%</td>\n",
       "      <td>NaN</td>\n",
       "    </tr>\n",
       "    <tr>\n",
       "      <th>1</th>\n",
       "      <td>Afghanistan</td>\n",
       "      <td>41.0</td>\n",
       "      <td>1990</td>\n",
       "      <td>NaN</td>\n",
       "      <td>NaN</td>\n",
       "      <td>3622.0</td>\n",
       "      <td>4.99%</td>\n",
       "      <td>NaN</td>\n",
       "    </tr>\n",
       "    <tr>\n",
       "      <th>2</th>\n",
       "      <td>Albania</td>\n",
       "      <td>72.0</td>\n",
       "      <td>1985</td>\n",
       "      <td>NaN</td>\n",
       "      <td>NaN</td>\n",
       "      <td>2339.0</td>\n",
       "      <td>NaN</td>\n",
       "      <td>NaN</td>\n",
       "    </tr>\n",
       "    <tr>\n",
       "      <th>3</th>\n",
       "      <td>Albania</td>\n",
       "      <td>72.0</td>\n",
       "      <td>1990</td>\n",
       "      <td>NaN</td>\n",
       "      <td>NaN</td>\n",
       "      <td>2221.0</td>\n",
       "      <td>NaN</td>\n",
       "      <td>NaN</td>\n",
       "    </tr>\n",
       "    <tr>\n",
       "      <th>4</th>\n",
       "      <td>Algeria</td>\n",
       "      <td>66.0</td>\n",
       "      <td>1985</td>\n",
       "      <td>NaN</td>\n",
       "      <td>NaN</td>\n",
       "      <td>61132.0</td>\n",
       "      <td>NaN</td>\n",
       "      <td>NaN</td>\n",
       "    </tr>\n",
       "  </tbody>\n",
       "</table>\n",
       "</div>"
      ],
      "text/plain": [
       "  Country or Area  Life expectancy  Year  Child overweight percent  \\\n",
       "0     Afghanistan             41.0  1985                       NaN   \n",
       "1     Afghanistan             41.0  1990                       NaN   \n",
       "2         Albania             72.0  1985                       NaN   \n",
       "3         Albania             72.0  1990                       NaN   \n",
       "4         Algeria             66.0  1985                       NaN   \n",
       "\n",
       "   Child underweight percent      GDP Literacy  Wage  \n",
       "0                        NaN   3322.0    4.99%   NaN  \n",
       "1                        NaN   3622.0    4.99%   NaN  \n",
       "2                        NaN   2339.0      NaN   NaN  \n",
       "3                        NaN   2221.0      NaN   NaN  \n",
       "4                        NaN  61132.0      NaN   NaN  "
      ]
     },
     "execution_count": 3,
     "metadata": {},
     "output_type": "execute_result"
    }
   ],
   "source": [
    "data.head()"
   ]
  },
  {
   "cell_type": "code",
   "execution_count": 7,
   "metadata": {},
   "outputs": [],
   "source": [
    "data_1998 = data[data['Year'] == 1998]"
   ]
  },
  {
   "cell_type": "code",
   "execution_count": 9,
   "metadata": {},
   "outputs": [],
   "source": [
    "answer = data_1998[data_1998['GDP'] < 1500]"
   ]
  },
  {
   "cell_type": "code",
   "execution_count": 10,
   "metadata": {},
   "outputs": [
    {
     "data": {
      "text/html": [
       "<div>\n",
       "<style scoped>\n",
       "    .dataframe tbody tr th:only-of-type {\n",
       "        vertical-align: middle;\n",
       "    }\n",
       "\n",
       "    .dataframe tbody tr th {\n",
       "        vertical-align: top;\n",
       "    }\n",
       "\n",
       "    .dataframe thead th {\n",
       "        text-align: right;\n",
       "    }\n",
       "</style>\n",
       "<table border=\"1\" class=\"dataframe\">\n",
       "  <thead>\n",
       "    <tr style=\"text-align: right;\">\n",
       "      <th></th>\n",
       "      <th>Country or Area</th>\n",
       "      <th>Life expectancy</th>\n",
       "      <th>Year</th>\n",
       "      <th>Child overweight percent</th>\n",
       "      <th>Child underweight percent</th>\n",
       "      <th>GDP</th>\n",
       "      <th>Literacy</th>\n",
       "      <th>Wage</th>\n",
       "    </tr>\n",
       "  </thead>\n",
       "  <tbody>\n",
       "    <tr>\n",
       "      <th>1397</th>\n",
       "      <td>Maldives</td>\n",
       "      <td>NaN</td>\n",
       "      <td>1998</td>\n",
       "      <td>6.9</td>\n",
       "      <td>42.066667</td>\n",
       "      <td>693.0</td>\n",
       "      <td>96.44%</td>\n",
       "      <td>NaN</td>\n",
       "    </tr>\n",
       "  </tbody>\n",
       "</table>\n",
       "</div>"
      ],
      "text/plain": [
       "     Country or Area  Life expectancy  Year  Child overweight percent  \\\n",
       "1397        Maldives              NaN  1998                       6.9   \n",
       "\n",
       "      Child underweight percent    GDP Literacy  Wage  \n",
       "1397                  42.066667  693.0   96.44%   NaN  "
      ]
     },
     "execution_count": 10,
     "metadata": {},
     "output_type": "execute_result"
    }
   ],
   "source": [
    "answer"
   ]
  },
  {
   "cell_type": "markdown",
   "metadata": {},
   "source": [
    "__Ответ:__ Maldives"
   ]
  },
  {
   "cell_type": "markdown",
   "metadata": {},
   "source": []
  },
  {
   "cell_type": "code",
   "execution_count": 13,
   "metadata": {},
   "outputs": [
    {
     "name": "stderr",
     "output_type": "stream",
     "text": [
      "/home/philipp/anaconda3/lib/python3.7/site-packages/sklearn/utils/__init__.py:4: DeprecationWarning: Using or importing the ABCs from 'collections' instead of from 'collections.abc' is deprecated, and in 3.8 it will stop working\n",
      "  from collections import Sequence\n"
     ]
    }
   ],
   "source": [
    "from sklearn import metrics"
   ]
  },
  {
   "cell_type": "markdown",
   "metadata": {},
   "source": [
    "Вам предложены данные с информацией по квартирам, выставленным на продажу.\n",
    "1) Откройте файл. Сколько всего представлено квартир?\n",
    "\n",
    "Ответ 30471\n",
    "\n",
    "\n",
    "\n",
    "Найдите меры центральной тенденции и разброса для признака \"Общая площадь квартиры\"(переменная full_sq). Все показатели округлите до сотых. Если число целое, введите его без знаков после запятой.\n",
    "\n",
    "Среднее арифметическое: Ответ 54.21\n",
    "\n",
    "Медиана: Ответ 49\n",
    "\n",
    "Стандартное отклонение: Ответ 38.03\n",
    "\n",
    "Межквартильный размах: Ответ 25\n",
    "\n",
    "2) Оставьте в датасете только следующие признаки:\n",
    "\n",
    "-price_doc (цена)\n",
    "\n",
    "-sub_area (район)\n",
    "\n",
    "-full_sq(общая площадь)\n",
    "\n",
    "-floor(этаж)\n",
    "\n",
    "-children_preschool (детские сады)\n",
    "\n",
    "-children_school (школы)\n",
    "\n",
    "-additional_education_km (расстояние до учреждений доп.образования)\n",
    "\n",
    "-public_transport_station_min_walk (минут пешком до общественного транспорта)\n",
    "\n",
    "-mkad_km (КМ до МКАДа)\n",
    "\n",
    "-kremlin_km (КМ до Кремля)\n",
    "\n",
    "-ecology (уровень экологии)\n",
    "\n",
    "\n",
    "\n",
    "Датасет собран для прогнозирования стоимости квартиры по ее признакам. Обратите внимание, что вам самостоятельно нужно определить, какая колонка отвечает за целевую переменную, какие - за признаки.\n",
    "\n",
    "\n",
    "\n",
    "2) Постройте матрицу корреляций для количественных признаков квартир. Между какими признаками самая высокая корреляция? Введите названия признаков в алфавитном порядке.\n",
    "\n",
    "Введите название первого признака:\n",
    "\n",
    "Ответ additional_education_km\n",
    "\n",
    "\n",
    "Введите название второго признака:\n",
    "\n",
    "Ответ public_transport_station_min_walk\n",
    "\n",
    "\n",
    "3) Отберите 3 количественных признака, с которыми у целевой переменной самая сильная взаимосвязь. Перечислите их в ячейках ниже в алфавитном порядке.\n",
    "\n",
    "\n",
    "Введите название первого признака:\n",
    "\n",
    "Ответ additional_education_km\n",
    "\n",
    "Введите название второго признака:\n",
    "\n",
    "Ответ full_sq\n",
    "\n",
    "Введите название третьего признака:\n",
    "\n",
    "Ответ kremlin_min"
   ]
  },
  {
   "cell_type": "code",
   "execution_count": 30,
   "metadata": {},
   "outputs": [],
   "source": [
    "sber = pd.read_csv('sberbank_moscow_1.csv')"
   ]
  },
  {
   "cell_type": "code",
   "execution_count": 31,
   "metadata": {},
   "outputs": [
    {
     "data": {
      "text/html": [
       "<div>\n",
       "<style scoped>\n",
       "    .dataframe tbody tr th:only-of-type {\n",
       "        vertical-align: middle;\n",
       "    }\n",
       "\n",
       "    .dataframe tbody tr th {\n",
       "        vertical-align: top;\n",
       "    }\n",
       "\n",
       "    .dataframe thead th {\n",
       "        text-align: right;\n",
       "    }\n",
       "</style>\n",
       "<table border=\"1\" class=\"dataframe\">\n",
       "  <thead>\n",
       "    <tr style=\"text-align: right;\">\n",
       "      <th></th>\n",
       "      <th>id</th>\n",
       "      <th>timestamp</th>\n",
       "      <th>full_sq</th>\n",
       "      <th>life_sq</th>\n",
       "      <th>floor</th>\n",
       "      <th>max_floor</th>\n",
       "      <th>material</th>\n",
       "      <th>build_year</th>\n",
       "      <th>num_room</th>\n",
       "      <th>kitch_sq</th>\n",
       "      <th>...</th>\n",
       "      <th>cafe_count_5000_price_2500</th>\n",
       "      <th>cafe_count_5000_price_4000</th>\n",
       "      <th>cafe_count_5000_price_high</th>\n",
       "      <th>big_church_count_5000</th>\n",
       "      <th>church_count_5000</th>\n",
       "      <th>mosque_count_5000</th>\n",
       "      <th>leisure_count_5000</th>\n",
       "      <th>sport_count_5000</th>\n",
       "      <th>market_count_5000</th>\n",
       "      <th>price_doc</th>\n",
       "    </tr>\n",
       "  </thead>\n",
       "  <tbody>\n",
       "    <tr>\n",
       "      <th>0</th>\n",
       "      <td>1</td>\n",
       "      <td>2011-08-20</td>\n",
       "      <td>43</td>\n",
       "      <td>27.0</td>\n",
       "      <td>4.0</td>\n",
       "      <td>NaN</td>\n",
       "      <td>NaN</td>\n",
       "      <td>NaN</td>\n",
       "      <td>NaN</td>\n",
       "      <td>NaN</td>\n",
       "      <td>...</td>\n",
       "      <td>9</td>\n",
       "      <td>4</td>\n",
       "      <td>0</td>\n",
       "      <td>13</td>\n",
       "      <td>22</td>\n",
       "      <td>1</td>\n",
       "      <td>0</td>\n",
       "      <td>52</td>\n",
       "      <td>4</td>\n",
       "      <td>5850000</td>\n",
       "    </tr>\n",
       "    <tr>\n",
       "      <th>1</th>\n",
       "      <td>2</td>\n",
       "      <td>2011-08-23</td>\n",
       "      <td>34</td>\n",
       "      <td>19.0</td>\n",
       "      <td>3.0</td>\n",
       "      <td>NaN</td>\n",
       "      <td>NaN</td>\n",
       "      <td>NaN</td>\n",
       "      <td>NaN</td>\n",
       "      <td>NaN</td>\n",
       "      <td>...</td>\n",
       "      <td>15</td>\n",
       "      <td>3</td>\n",
       "      <td>0</td>\n",
       "      <td>15</td>\n",
       "      <td>29</td>\n",
       "      <td>1</td>\n",
       "      <td>10</td>\n",
       "      <td>66</td>\n",
       "      <td>14</td>\n",
       "      <td>6000000</td>\n",
       "    </tr>\n",
       "    <tr>\n",
       "      <th>2</th>\n",
       "      <td>3</td>\n",
       "      <td>2011-08-27</td>\n",
       "      <td>43</td>\n",
       "      <td>29.0</td>\n",
       "      <td>2.0</td>\n",
       "      <td>NaN</td>\n",
       "      <td>NaN</td>\n",
       "      <td>NaN</td>\n",
       "      <td>NaN</td>\n",
       "      <td>NaN</td>\n",
       "      <td>...</td>\n",
       "      <td>10</td>\n",
       "      <td>3</td>\n",
       "      <td>0</td>\n",
       "      <td>11</td>\n",
       "      <td>27</td>\n",
       "      <td>0</td>\n",
       "      <td>4</td>\n",
       "      <td>67</td>\n",
       "      <td>10</td>\n",
       "      <td>5700000</td>\n",
       "    </tr>\n",
       "    <tr>\n",
       "      <th>3</th>\n",
       "      <td>4</td>\n",
       "      <td>2011-09-01</td>\n",
       "      <td>89</td>\n",
       "      <td>50.0</td>\n",
       "      <td>9.0</td>\n",
       "      <td>NaN</td>\n",
       "      <td>NaN</td>\n",
       "      <td>NaN</td>\n",
       "      <td>NaN</td>\n",
       "      <td>NaN</td>\n",
       "      <td>...</td>\n",
       "      <td>11</td>\n",
       "      <td>2</td>\n",
       "      <td>1</td>\n",
       "      <td>4</td>\n",
       "      <td>4</td>\n",
       "      <td>0</td>\n",
       "      <td>0</td>\n",
       "      <td>26</td>\n",
       "      <td>3</td>\n",
       "      <td>13100000</td>\n",
       "    </tr>\n",
       "    <tr>\n",
       "      <th>4</th>\n",
       "      <td>5</td>\n",
       "      <td>2011-09-05</td>\n",
       "      <td>77</td>\n",
       "      <td>77.0</td>\n",
       "      <td>4.0</td>\n",
       "      <td>NaN</td>\n",
       "      <td>NaN</td>\n",
       "      <td>NaN</td>\n",
       "      <td>NaN</td>\n",
       "      <td>NaN</td>\n",
       "      <td>...</td>\n",
       "      <td>319</td>\n",
       "      <td>108</td>\n",
       "      <td>17</td>\n",
       "      <td>135</td>\n",
       "      <td>236</td>\n",
       "      <td>2</td>\n",
       "      <td>91</td>\n",
       "      <td>195</td>\n",
       "      <td>14</td>\n",
       "      <td>16331452</td>\n",
       "    </tr>\n",
       "  </tbody>\n",
       "</table>\n",
       "<p>5 rows × 292 columns</p>\n",
       "</div>"
      ],
      "text/plain": [
       "   id   timestamp  full_sq  life_sq  floor  max_floor  material  build_year  \\\n",
       "0   1  2011-08-20       43     27.0    4.0        NaN       NaN         NaN   \n",
       "1   2  2011-08-23       34     19.0    3.0        NaN       NaN         NaN   \n",
       "2   3  2011-08-27       43     29.0    2.0        NaN       NaN         NaN   \n",
       "3   4  2011-09-01       89     50.0    9.0        NaN       NaN         NaN   \n",
       "4   5  2011-09-05       77     77.0    4.0        NaN       NaN         NaN   \n",
       "\n",
       "   num_room  kitch_sq  ...  cafe_count_5000_price_2500  \\\n",
       "0       NaN       NaN  ...                           9   \n",
       "1       NaN       NaN  ...                          15   \n",
       "2       NaN       NaN  ...                          10   \n",
       "3       NaN       NaN  ...                          11   \n",
       "4       NaN       NaN  ...                         319   \n",
       "\n",
       "  cafe_count_5000_price_4000 cafe_count_5000_price_high  \\\n",
       "0                          4                          0   \n",
       "1                          3                          0   \n",
       "2                          3                          0   \n",
       "3                          2                          1   \n",
       "4                        108                         17   \n",
       "\n",
       "   big_church_count_5000  church_count_5000  mosque_count_5000  \\\n",
       "0                     13                 22                  1   \n",
       "1                     15                 29                  1   \n",
       "2                     11                 27                  0   \n",
       "3                      4                  4                  0   \n",
       "4                    135                236                  2   \n",
       "\n",
       "   leisure_count_5000  sport_count_5000  market_count_5000  price_doc  \n",
       "0                   0                52                  4    5850000  \n",
       "1                  10                66                 14    6000000  \n",
       "2                   4                67                 10    5700000  \n",
       "3                   0                26                  3   13100000  \n",
       "4                  91               195                 14   16331452  \n",
       "\n",
       "[5 rows x 292 columns]"
      ]
     },
     "execution_count": 31,
     "metadata": {},
     "output_type": "execute_result"
    }
   ],
   "source": [
    "sber.head()"
   ]
  },
  {
   "cell_type": "code",
   "execution_count": 32,
   "metadata": {},
   "outputs": [
    {
     "data": {
      "text/plain": [
       "30471"
      ]
     },
     "execution_count": 32,
     "metadata": {},
     "output_type": "execute_result"
    }
   ],
   "source": [
    "len(sber)"
   ]
  },
  {
   "cell_type": "code",
   "execution_count": 33,
   "metadata": {},
   "outputs": [
    {
     "data": {
      "text/plain": [
       "54.21426930524105"
      ]
     },
     "execution_count": 33,
     "metadata": {},
     "output_type": "execute_result"
    }
   ],
   "source": [
    "sber['full_sq'].mean()"
   ]
  },
  {
   "cell_type": "code",
   "execution_count": 34,
   "metadata": {},
   "outputs": [
    {
     "data": {
      "text/plain": [
       "49.0"
      ]
     },
     "execution_count": 34,
     "metadata": {},
     "output_type": "execute_result"
    }
   ],
   "source": [
    "sber['full_sq'].median()"
   ]
  },
  {
   "cell_type": "code",
   "execution_count": 35,
   "metadata": {},
   "outputs": [
    {
     "data": {
      "text/plain": [
       "38.031487324105015"
      ]
     },
     "execution_count": 35,
     "metadata": {},
     "output_type": "execute_result"
    }
   ],
   "source": [
    "sber['full_sq'].std()"
   ]
  },
  {
   "cell_type": "code",
   "execution_count": 36,
   "metadata": {},
   "outputs": [
    {
     "data": {
      "text/plain": [
       "0.25    38.0\n",
       "0.75    63.0\n",
       "Name: full_sq, dtype: float64"
      ]
     },
     "execution_count": 36,
     "metadata": {},
     "output_type": "execute_result"
    }
   ],
   "source": [
    "sber['full_sq'].quantile([.25, .75])\n"
   ]
  },
  {
   "cell_type": "code",
   "execution_count": 37,
   "metadata": {},
   "outputs": [
    {
     "data": {
      "text/plain": [
       "25"
      ]
     },
     "execution_count": 37,
     "metadata": {},
     "output_type": "execute_result"
    }
   ],
   "source": [
    "63 - 38"
   ]
  },
  {
   "cell_type": "code",
   "execution_count": 38,
   "metadata": {},
   "outputs": [],
   "source": [
    "columns = ['price_doc', 'sub_area', 'full_sq', 'floor', 'children_preschool', 'children_school', \\\n",
    "           'additional_education_km', 'public_transport_station_min_walk', 'mkad_km', 'kremlin_km', 'ecology']\n",
    "sber = sber[columns]"
   ]
  },
  {
   "cell_type": "code",
   "execution_count": 39,
   "metadata": {},
   "outputs": [
    {
     "data": {
      "text/html": [
       "<div>\n",
       "<style scoped>\n",
       "    .dataframe tbody tr th:only-of-type {\n",
       "        vertical-align: middle;\n",
       "    }\n",
       "\n",
       "    .dataframe tbody tr th {\n",
       "        vertical-align: top;\n",
       "    }\n",
       "\n",
       "    .dataframe thead th {\n",
       "        text-align: right;\n",
       "    }\n",
       "</style>\n",
       "<table border=\"1\" class=\"dataframe\">\n",
       "  <thead>\n",
       "    <tr style=\"text-align: right;\">\n",
       "      <th></th>\n",
       "      <th>price_doc</th>\n",
       "      <th>sub_area</th>\n",
       "      <th>full_sq</th>\n",
       "      <th>floor</th>\n",
       "      <th>children_preschool</th>\n",
       "      <th>children_school</th>\n",
       "      <th>additional_education_km</th>\n",
       "      <th>public_transport_station_min_walk</th>\n",
       "      <th>mkad_km</th>\n",
       "      <th>kremlin_km</th>\n",
       "      <th>ecology</th>\n",
       "    </tr>\n",
       "  </thead>\n",
       "  <tbody>\n",
       "    <tr>\n",
       "      <th>0</th>\n",
       "      <td>5850000</td>\n",
       "      <td>Bibirevo</td>\n",
       "      <td>43</td>\n",
       "      <td>4.0</td>\n",
       "      <td>9576</td>\n",
       "      <td>10309</td>\n",
       "      <td>0.947962</td>\n",
       "      <td>3.299822</td>\n",
       "      <td>1.422391</td>\n",
       "      <td>15.156211</td>\n",
       "      <td>good</td>\n",
       "    </tr>\n",
       "    <tr>\n",
       "      <th>1</th>\n",
       "      <td>6000000</td>\n",
       "      <td>Nagatinskij Zaton</td>\n",
       "      <td>34</td>\n",
       "      <td>3.0</td>\n",
       "      <td>6880</td>\n",
       "      <td>7759</td>\n",
       "      <td>1.072315</td>\n",
       "      <td>0.783160</td>\n",
       "      <td>9.503405</td>\n",
       "      <td>8.698054</td>\n",
       "      <td>excellent</td>\n",
       "    </tr>\n",
       "    <tr>\n",
       "      <th>2</th>\n",
       "      <td>5700000</td>\n",
       "      <td>Tekstil'shhiki</td>\n",
       "      <td>43</td>\n",
       "      <td>2.0</td>\n",
       "      <td>5879</td>\n",
       "      <td>6207</td>\n",
       "      <td>0.391957</td>\n",
       "      <td>3.945073</td>\n",
       "      <td>5.604800</td>\n",
       "      <td>9.067885</td>\n",
       "      <td>poor</td>\n",
       "    </tr>\n",
       "    <tr>\n",
       "      <th>3</th>\n",
       "      <td>13100000</td>\n",
       "      <td>Mitino</td>\n",
       "      <td>89</td>\n",
       "      <td>9.0</td>\n",
       "      <td>13087</td>\n",
       "      <td>13670</td>\n",
       "      <td>0.892674</td>\n",
       "      <td>1.579164</td>\n",
       "      <td>2.677824</td>\n",
       "      <td>19.487005</td>\n",
       "      <td>good</td>\n",
       "    </tr>\n",
       "    <tr>\n",
       "      <th>4</th>\n",
       "      <td>16331452</td>\n",
       "      <td>Basmannoe</td>\n",
       "      <td>77</td>\n",
       "      <td>4.0</td>\n",
       "      <td>5706</td>\n",
       "      <td>6748</td>\n",
       "      <td>0.810801</td>\n",
       "      <td>0.857764</td>\n",
       "      <td>11.616653</td>\n",
       "      <td>2.578671</td>\n",
       "      <td>excellent</td>\n",
       "    </tr>\n",
       "  </tbody>\n",
       "</table>\n",
       "</div>"
      ],
      "text/plain": [
       "   price_doc           sub_area  full_sq  floor  children_preschool  \\\n",
       "0    5850000           Bibirevo       43    4.0                9576   \n",
       "1    6000000  Nagatinskij Zaton       34    3.0                6880   \n",
       "2    5700000     Tekstil'shhiki       43    2.0                5879   \n",
       "3   13100000             Mitino       89    9.0               13087   \n",
       "4   16331452          Basmannoe       77    4.0                5706   \n",
       "\n",
       "   children_school  additional_education_km  \\\n",
       "0            10309                 0.947962   \n",
       "1             7759                 1.072315   \n",
       "2             6207                 0.391957   \n",
       "3            13670                 0.892674   \n",
       "4             6748                 0.810801   \n",
       "\n",
       "   public_transport_station_min_walk    mkad_km  kremlin_km    ecology  \n",
       "0                           3.299822   1.422391   15.156211       good  \n",
       "1                           0.783160   9.503405    8.698054  excellent  \n",
       "2                           3.945073   5.604800    9.067885       poor  \n",
       "3                           1.579164   2.677824   19.487005       good  \n",
       "4                           0.857764  11.616653    2.578671  excellent  "
      ]
     },
     "execution_count": 39,
     "metadata": {},
     "output_type": "execute_result"
    }
   ],
   "source": [
    "sber.head()"
   ]
  },
  {
   "cell_type": "code",
   "execution_count": 42,
   "metadata": {},
   "outputs": [],
   "source": [
    "num_features = ['price_doc', 'full_sq', 'floor', 'children_preschool', 'children_school', \\\n",
    "           'additional_education_km', 'public_transport_station_min_walk', 'mkad_km', 'kremlin_km']"
   ]
  },
  {
   "cell_type": "code",
   "execution_count": 43,
   "metadata": {},
   "outputs": [],
   "source": [
    "import seaborn as sns"
   ]
  },
  {
   "cell_type": "code",
   "execution_count": 44,
   "metadata": {},
   "outputs": [],
   "source": [
    "sber_num = sber[num_features]"
   ]
  },
  {
   "cell_type": "code",
   "execution_count": 46,
   "metadata": {},
   "outputs": [
    {
     "data": {
      "image/png": "[encoded data removed]",
      "text/plain": [
       "<Figure size 432x288 with 2 Axes>"
      ]
     },
     "metadata": {
      "needs_background": "light"
     },
     "output_type": "display_data"
    }
   ],
   "source": [
    "x = sns.heatmap(sber_num.corr(), annot=True)"
   ]
  },
  {
   "cell_type": "markdown",
   "metadata": {},
   "source": [
    "public_transport_station_min_walk, additional_education_km"
   ]
  },
  {
   "cell_type": "markdown",
   "metadata": {},
   "source": [
    "price_doc - целевая переменная"
   ]
  },
  {
   "cell_type": "markdown",
   "metadata": {},
   "source": [
    "full_sq, kremlin_min, additional_education_km"
   ]
  },
  {
   "cell_type": "code",
   "execution_count": null,
   "metadata": {},
   "outputs": [],
   "source": []
  }
 ],
 "metadata": {
  "kernelspec": {
   "display_name": "Python 3",
   "language": "python",
   "name": "python3"
  },
  "language_info": {
   "codemirror_mode": {
    "name": "ipython",
    "version": 3
   },
   "file_extension": ".py",
   "mimetype": "text/x-python",
   "name": "python",
   "nbconvert_exporter": "python",
   "pygments_lexer": "ipython3",
   "version": "3.7.4"
  }
 },
 "nbformat": 4,
 "nbformat_minor": 4
}
